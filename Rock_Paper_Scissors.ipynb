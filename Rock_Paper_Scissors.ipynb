{
  "nbformat": 4,
  "nbformat_minor": 0,
  "metadata": {
    "colab": {
      "provenance": []
    },
    "kernelspec": {
      "name": "python3",
      "display_name": "Python 3"
    },
    "language_info": {
      "name": "python"
    }
  },
  "cells": [
    {
      "cell_type": "code",
      "source": [
        "import random\n",
        "\n",
        "from re import U\n",
        "Game_choices= [\"Rock\", \"Paper\", \"Scissors\"]\n",
        "c_win = 0\n",
        "u_win = 0\n",
        "\n",
        "for i in range(0,10):\n",
        "  computer_choice = random.choice(Game_choices)\n",
        "  user_choice = input(\"Rock/Paper/Scissors?\").capitalize()\n",
        "  while user_choice not in Game_choices:\n",
        "    print(\"your input should be one of these three options: Rock/Paper/Scissors\")\n",
        "    user_choice = input(\"Rock/Paper/Scissors?\").capitalize()\n",
        "  if user_choice == \"Rock\":\n",
        "    if computer_choice == \"Paper\":\n",
        "      c_win+=1\n",
        "      print(\"you lost this round!, try harder!\")\n",
        "    elif computer_choice == \"Scissors\":\n",
        "      u_win+=1\n",
        "      print(\"you won this round!, Good job!\")\n",
        "    else:\n",
        "      print(\"it was a tie for this round!\")\n",
        "  elif user_choice == \"Paper\":\n",
        "    if computer_choice == \"Scissors\":\n",
        "      c_win+=1\n",
        "      print(\"you lost this round!, try harder!\")\n",
        "    elif computer_choice == \"Rock\":\n",
        "      u_win+=1\n",
        "      print(\"you won this round!, Good job!\")\n",
        "    else:\n",
        "      print(\"it was a tie for this round!\")\n",
        "  elif user_choice == \"Scissors\":\n",
        "      if computer_choice == \"Rock\":\n",
        "        c_win+=1\n",
        "        print(\"you lost this round!, try harder!\")\n",
        "      elif computer_choice == \"Paper\":\n",
        "        u_win+=1\n",
        "        print(\"you won this round!, Good job!\")\n",
        "      else:\n",
        "        print(\"it was a tie for this round!\")\n",
        "\n",
        "print()\n",
        "print(\"FINAL RESULT:\")\n",
        "if c_win > u_win:\n",
        "  print(\"you lost!\")\n",
        "  print(\"computer score was = {} and your score was = {}\".format(c_win, u_win))\n",
        "elif u_win > c_win:\n",
        "  print(\"you won!\")\n",
        "  print(\"computer score was = {} and your score was = {}\".format(c_win, u_win))\n",
        "else:\n",
        "  print(\"it was a tie!\")\n",
        "  print(\"computer score was = {} and your score was = {}\".format(c_win, u_win))"
      ],
      "metadata": {
        "colab": {
          "base_uri": "https://localhost:8080/"
        },
        "id": "QrXOG1eUuWqc",
        "outputId": "a0018527-3824-4376-8035-b8c88a23fa3d"
      },
      "execution_count": 13,
      "outputs": [
        {
          "output_type": "stream",
          "name": "stdout",
          "text": [
            "Rock/Paper/Scissors?Rock\n",
            "it was a tie for this round!\n",
            "Rock/Paper/Scissors?5\n",
            "your input should be one of these three options: Rock/Paper/Scissors\n",
            "Rock/Paper/Scissors?Rock\n",
            "you lost this round!, try harder!\n",
            "Rock/Paper/Scissors?rock\n",
            "you won this round!, Good job!\n",
            "Rock/Paper/Scissors?scissoRs\n",
            "it was a tie for this round!\n",
            "Rock/Paper/Scissors?7\n",
            "your input should be one of these three options: Rock/Paper/Scissors\n",
            "Rock/Paper/Scissors?Rock\n",
            "you lost this round!, try harder!\n",
            "Rock/Paper/Scissors?Rock\n",
            "it was a tie for this round!\n",
            "Rock/Paper/Scissors?5\n",
            "your input should be one of these three options: Rock/Paper/Scissors\n",
            "Rock/Paper/Scissors?5\n",
            "your input should be one of these three options: Rock/Paper/Scissors\n",
            "Rock/Paper/Scissors?5\n",
            "your input should be one of these three options: Rock/Paper/Scissors\n",
            "Rock/Paper/Scissors?Rock\n",
            "you lost this round!, try harder!\n",
            "Rock/Paper/Scissors?Rock\n",
            "you won this round!, Good job!\n",
            "Rock/Paper/Scissors?paper\n",
            "you won this round!, Good job!\n",
            "Rock/Paper/Scissors?Paper\n",
            "you lost this round!, try harder!\n",
            "\n",
            "FINAL RESULT:\n",
            "you lost!\n",
            "computer score was = 4 and your score was = 3\n"
          ]
        }
      ]
    }
  ]
}